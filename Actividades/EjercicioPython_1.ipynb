{
  "nbformat": 4,
  "nbformat_minor": 0,
  "metadata": {
    "colab": {
      "provenance": []
    },
    "kernelspec": {
      "name": "python3",
      "display_name": "Python 3"
    },
    "language_info": {
      "name": "python"
    }
  },
  "cells": [
    {
      "cell_type": "markdown",
      "source": [
        "# **Actividad 2: Diseño de algoritmos en Python**"
      ],
      "metadata": {
        "id": "vNlC2r9HwS60"
      }
    },
    {
      "cell_type": "code",
      "source": [
        "\"\"\"\n",
        " Nombre:Victor Abraham Vazquez Alvarez\n",
        " Matricula:1925879 Hora Clase:N1\n",
        " Título: Actividad 2_Diseño de algoritmos en Python\n",
        "\"\"\""
      ],
      "metadata": {
        "colab": {
          "base_uri": "https://localhost:8080/",
          "height": 35
        },
        "id": "n0Kg7v4dwNyG",
        "outputId": "c02b5bb2-b11c-4714-e2b4-bea2dcfaa479"
      },
      "execution_count": 14,
      "outputs": [
        {
          "output_type": "execute_result",
          "data": {
            "text/plain": [
              "'\\n Nombre:Victor Abraham Vazquez Alvarez\\n Matricula:1925879 Hora Clase:N1\\n Título: Actividad 2_Diseño de algoritmos en Python\\n'"
            ],
            "application/vnd.google.colaboratory.intrinsic+json": {
              "type": "string"
            }
          },
          "metadata": {},
          "execution_count": 14
        }
      ]
    },
    {
      "cell_type": "markdown",
      "source": [
        "1. Desarrolla un algoritmo que le pida al usuario por su nombre y que lo salude con su nombre, excepto si se llama “Ana”, “Juan”, y “Pedro”."
      ],
      "metadata": {
        "id": "607LRHFfwwJO"
      }
    },
    {
      "cell_type": "code",
      "source": [
        "def saludar_usuario():\n",
        "    nombre = input(\"Por favor, ingresa tu nombre: \")\n",
        "    if nombre.lower() in [\"ana\", \"juan\", \"pedro\"]:\n",
        "        print(\"Hola, Usuario desconocido.\")\n",
        "    else:\n",
        "        print(\"Hola,\", nombre + \"!\")\n",
        "\n",
        "saludar_usuario()"
      ],
      "metadata": {
        "colab": {
          "base_uri": "https://localhost:8080/"
        },
        "id": "iHxXkklgxcP_",
        "outputId": "a387b6ad-2e3f-493b-ef06-683fb00e8da4"
      },
      "execution_count": 15,
      "outputs": [
        {
          "output_type": "stream",
          "name": "stdout",
          "text": [
            "Por favor, ingresa tu nombre: Victor Vazquez\n",
            "Hola, Victor Vazquez!\n"
          ]
        }
      ]
    },
    {
      "cell_type": "markdown",
      "source": [
        "2. Desarrolla un algoritmo que por medio de una función, le pida al usuario una lista de N elementos y como resultado invierta el sentido de la lista."
      ],
      "metadata": {
        "id": "e5rojPrYxOZn"
      }
    },
    {
      "cell_type": "code",
      "source": [
        "def invertir_lista():\n",
        "    # Solicitar al usuario el número de elementos de la lista\n",
        "    N = int(input(\"Ingrese el número de elementos de la lista: \"))\n",
        "\n",
        "    # Solicitar al usuario los elementos de la lista\n",
        "    lista = []\n",
        "    for i in range(N):\n",
        "        elemento = input(\"Ingrese el elemento {}: \".format(i+1))\n",
        "        lista.append(elemento)\n",
        "\n",
        "    # Invertir la lista\n",
        "    lista_invertida = lista[::-1]\n",
        "\n",
        "    return lista_invertida\n",
        "\n",
        "# Ejemplo de uso de la función\n",
        "lista_invertida = invertir_lista()\n",
        "print(\"La lista invertida es:\", lista_invertida)"
      ],
      "metadata": {
        "colab": {
          "base_uri": "https://localhost:8080/"
        },
        "id": "7le_KVsgxmek",
        "outputId": "a3b6725f-2e39-4076-b758-66b4b06802af"
      },
      "execution_count": 16,
      "outputs": [
        {
          "output_type": "stream",
          "name": "stdout",
          "text": [
            "Ingrese el número de elementos de la lista: 5\n",
            "Ingrese el elemento 1: Tigres\n",
            "Ingrese el elemento 2: America\n",
            "Ingrese el elemento 3: Pachuca\n",
            "Ingrese el elemento 4: Toluca\n",
            "Ingrese el elemento 5: Rayados\n",
            "La lista invertida es: ['Rayados', 'Toluca', 'Pachuca', 'America', 'Tigres']\n"
          ]
        }
      ]
    },
    {
      "cell_type": "markdown",
      "source": [
        "3. Desarrolla un algoritmo que le pregunte al usuario cuántos números de la serie de Fibonacci quiere generar y que al final los imprima."
      ],
      "metadata": {
        "id": "KPeUOJayx44o"
      }
    },
    {
      "cell_type": "code",
      "source": [
        "def fibonacci(n):\n",
        "    fib_sequence = [0, 1]\n",
        "    for i in range(2, n):\n",
        "        fib_sequence.append(fib_sequence[-1] + fib_sequence[-2])\n",
        "    return fib_sequence[:n]\n",
        "\n",
        "def generar_fibonacci():\n",
        "    n = int(input(\"¿Cuántos números de la serie de Fibonacci desea generar? \"))\n",
        "    if n <= 0:\n",
        "        print(\"Ingrese un número positivo.\")\n",
        "        return\n",
        "    fibonacci_sequence = fibonacci(n)\n",
        "    print(\"Los {} números de la serie de Fibonacci son:\".format(n))\n",
        "    print(fibonacci_sequence)\n",
        "\n",
        "generar_fibonacci()"
      ],
      "metadata": {
        "colab": {
          "base_uri": "https://localhost:8080/"
        },
        "id": "fRNYoQRPx6g9",
        "outputId": "190f91b1-ad56-43c3-84f7-b35925656a3e"
      },
      "execution_count": 17,
      "outputs": [
        {
          "output_type": "stream",
          "name": "stdout",
          "text": [
            "¿Cuántos números de la serie de Fibonacci desea generar? 10\n",
            "Los 10 números de la serie de Fibonacci son:\n",
            "[0, 1, 1, 2, 3, 5, 8, 13, 21, 34]\n"
          ]
        }
      ]
    },
    {
      "cell_type": "markdown",
      "source": [
        "4. Juego de adivinar el número: Crea un programa que genere un número aleatorio entre 1 y 100, y luego le pida al usuario que adivine el número. El programa debe proporcionar pistas al usuario si el número es mayor o menor que el número objetivo, y seguir solicitando un nuevo intento hasta que el usuario adivine correctamente."
      ],
      "metadata": {
        "id": "z5c869s5yMu0"
      }
    },
    {
      "cell_type": "code",
      "source": [
        "import random\n",
        "\n",
        "def adivinar_numero():\n",
        "    numero_objetivo = random.randint(1, 100)\n",
        "    intentos = 0\n",
        "\n",
        "    print(\"¡Bienvenido al juego de adivinar el número!\")\n",
        "    print(\"Intenta adivinar un número entre 1 y 100.\")\n",
        "\n",
        "    while True:\n",
        "        intento = int(input(\"Ingresa tu intento: \"))\n",
        "        intentos += 1\n",
        "\n",
        "        if intento < numero_objetivo:\n",
        "            print(\"El número es mayor.\")\n",
        "        elif intento > numero_objetivo:\n",
        "            print(\"El número es menor.\")\n",
        "        else:\n",
        "            print(\"¡Felicidades! Has adivinado el número {} en {} intentos.\".format(numero_objetivo, intentos))\n",
        "            break\n",
        "\n",
        "adivinar_numero()"
      ],
      "metadata": {
        "colab": {
          "base_uri": "https://localhost:8080/"
        },
        "id": "wQMUsm9KyMAE",
        "outputId": "5b312154-f427-4f2b-e969-7fc8f9ff0b76"
      },
      "execution_count": 18,
      "outputs": [
        {
          "output_type": "stream",
          "name": "stdout",
          "text": [
            "¡Bienvenido al juego de adivinar el número!\n",
            "Intenta adivinar un número entre 1 y 100.\n",
            "Ingresa tu intento: 25\n",
            "El número es mayor.\n",
            "Ingresa tu intento: 50\n",
            "El número es menor.\n",
            "Ingresa tu intento: 30\n",
            "El número es mayor.\n",
            "Ingresa tu intento: 40\n",
            "El número es mayor.\n",
            "Ingresa tu intento: 45\n",
            "¡Felicidades! Has adivinado el número 45 en 5 intentos.\n"
          ]
        }
      ]
    },
    {
      "cell_type": "markdown",
      "source": [
        "5. Ejercicio de cálculo de números primos en un rango dado: Escribe un programa que solicite al usuario un rango de números y muestre todos los números primos dentro de ese rango.\n"
      ],
      "metadata": {
        "id": "wYZTyc_0ya-n"
      }
    },
    {
      "cell_type": "code",
      "source": [
        "def es_primo(numero):\n",
        "    if numero <= 1:\n",
        "        return False\n",
        "    for i in range(2, int(numero ** 0.5) + 1):\n",
        "        if numero % i == 0:\n",
        "            return False\n",
        "    return True\n",
        "\n",
        "def numeros_primos_en_rango(inicio, fin):\n",
        "    primos = []\n",
        "    for numero in range(inicio, fin + 1):\n",
        "        if es_primo(numero):\n",
        "            primos.append(numero)\n",
        "    return primos\n",
        "\n",
        "def main():\n",
        "    inicio = int(input(\"Ingrese el número inicial del rango: \"))\n",
        "    fin = int(input(\"Ingrese el número final del rango: \"))\n",
        "\n",
        "    if inicio >= fin:\n",
        "        print(\"El número inicial debe ser menor que el número final.\")\n",
        "    else:\n",
        "        primos = numeros_primos_en_rango(inicio, fin)\n",
        "        if primos:\n",
        "            print(\"Los números primos en el rango de {} a {} son:\".format(inicio, fin))\n",
        "            print(primos)\n",
        "        else:\n",
        "            print(\"No hay números primos en el rango de {} a {}.\".format(inicio, fin))\n",
        "\n",
        "if __name__ == \"__main__\":\n",
        "    main()"
      ],
      "metadata": {
        "colab": {
          "base_uri": "https://localhost:8080/"
        },
        "id": "RE-F1dfPydcx",
        "outputId": "a49df39e-0af8-409d-e7b0-fe14be69b593"
      },
      "execution_count": 19,
      "outputs": [
        {
          "output_type": "stream",
          "name": "stdout",
          "text": [
            "Ingrese el número inicial del rango: 1\n",
            "Ingrese el número final del rango: 25\n",
            "Los números primos en el rango de 1 a 25 son:\n",
            "[2, 3, 5, 7, 11, 13, 17, 19, 23]\n"
          ]
        }
      ]
    },
    {
      "cell_type": "markdown",
      "source": [
        "6. Ejercicio de implementación de una calculadora básica utilizando funciones: Escribe un programa que solicite al usuario dos números y realice operaciones básicas como suma, resta, multiplicación y división utilizando funciones separadas para cada operación.\n"
      ],
      "metadata": {
        "id": "DIrVA493ymyk"
      }
    },
    {
      "cell_type": "code",
      "execution_count": 20,
      "metadata": {
        "colab": {
          "base_uri": "https://localhost:8080/"
        },
        "id": "mstVb0W-zvJE",
        "outputId": "e36c8967-32d4-4477-dd62-72a90065a033"
      },
      "outputs": [
        {
          "output_type": "stream",
          "name": "stdout",
          "text": [
            "Ingrese el primer número: 50\n",
            "Ingrese el segundo número: 25\n",
            "Suma: 75.0\n",
            "Resta: 25.0\n",
            "Multiplicación: 1250.0\n",
            "División: 2.0\n"
          ]
        }
      ],
      "source": [
        "def suma(num1, num2):\n",
        "    return num1 + num2\n",
        "\n",
        "def resta(num1, num2):\n",
        "    return num1 - num2\n",
        "\n",
        "def multiplicacion(num1, num2):\n",
        "    return num1 * num2\n",
        "\n",
        "def division(num1, num2):\n",
        "    if num2 != 0:\n",
        "        return num1 / num2\n",
        "    else:\n",
        "        return \"No se puede dividir entre cero.\"\n",
        "\n",
        "def main():\n",
        "    try:\n",
        "        num1 = float(input(\"Ingrese el primer número: \"))\n",
        "        num2 = float(input(\"Ingrese el segundo número: \"))\n",
        "\n",
        "        print(\"Suma:\", suma(num1, num2))\n",
        "        print(\"Resta:\", resta(num1, num2))\n",
        "        print(\"Multiplicación:\", multiplicacion(num1, num2))\n",
        "        print(\"División:\", division(num1, num2))\n",
        "    except ValueError:\n",
        "        print(\"Error: Ingrese un número válido.\")\n",
        "\n",
        "if __name__ == \"__main__\":\n",
        "    main()"
      ]
    }
  ]
}